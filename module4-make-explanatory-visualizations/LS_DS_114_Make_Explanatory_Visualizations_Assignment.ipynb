{
  "nbformat": 4,
  "nbformat_minor": 0,
  "metadata": {
    "colab": {
      "name": "LS_DS_114_Make_Explanatory_Visualizations_Assignment.ipynb",
      "provenance": [],
      "collapsed_sections": [],
      "include_colab_link": true
    },
    "language_info": {
      "codemirror_mode": {
        "name": "ipython",
        "version": 3
      },
      "file_extension": ".py",
      "mimetype": "text/x-python",
      "name": "python",
      "nbconvert_exporter": "python",
      "pygments_lexer": "ipython3",
      "version": "3.7.1"
    },
    "kernelspec": {
      "display_name": "Python 3",
      "language": "python",
      "name": "python3"
    }
  },
  "cells": [
    {
      "cell_type": "markdown",
      "metadata": {
        "id": "view-in-github",
        "colab_type": "text"
      },
      "source": [
        "<a href=\"https://colab.research.google.com/github/Okocha76/DS-Unit-1-Sprint-1-Data-Wrangling-and-Storytelling/blob/master/module4-make-explanatory-visualizations/LS_DS_114_Make_Explanatory_Visualizations_Assignment.ipynb\" target=\"_parent\"><img src=\"https://colab.research.google.com/assets/colab-badge.svg\" alt=\"Open In Colab\"/></a>"
      ]
    },
    {
      "cell_type": "markdown",
      "metadata": {
        "colab_type": "text",
        "id": "NMEswXWh9mqw"
      },
      "source": [
        "Lambda School Data Science\n",
        "\n",
        "*Unit 1, Sprint 1, Module 4*\n",
        "\n",
        "---\n",
        "\n",
        "# ASSIGNMENT\n",
        "\n",
        "### 1) Replicate the lesson code. I recommend that you [do not copy-paste](https://docs.google.com/document/d/1ubOw9B3Hfip27hF2ZFnW3a3z9xAgrUDRReOEo-FHCVs/edit).\n",
        "\n",
        "Get caught up to where we got our example in class and then try and take things further. How close to \"pixel perfect\" can you make the lecture graph?\n",
        "\n",
        "Once you have something that you're proud of, share your graph in the cohort channel and move on to the second exercise.\n",
        "\n",
        "### 2) Reproduce another example from [FiveThityEight's shared data repository](https://data.fivethirtyeight.com/).\n",
        "\n",
        "**WARNING**: There are a lot of very custom graphs and tables at the above link. I **highly** recommend not trying to reproduce any that look like a table of values or something really different from the graph types that we are already familiar with. Search through the posts until you find a graph type that you are more or less familiar with: histogram, bar chart, stacked bar chart, line chart, [seaborn relplot](https://seaborn.pydata.org/generated/seaborn.relplot.html), etc. Recreating some of the graphics that 538 uses would be a lot easier in Adobe photoshop/illustrator than with matplotlib. \n",
        "\n",
        "- If you put in some time to find a graph that looks \"easy\" to replicate you'll probably find that it's not as easy as you thought. \n",
        "\n",
        "- If you start with a graph that looks hard to replicate you'll probably run up against a brick wall and be disappointed with your afternoon.\n",
        "\n",
        "\n",
        "\n",
        "\n",
        "\n",
        "\n",
        "\n",
        "\n",
        "\n",
        "\n"
      ]
    },
    {
      "cell_type": "markdown",
      "metadata": {
        "id": "HoIjiWbko8NH",
        "colab_type": "text"
      },
      "source": [
        "# Replicate lesson code"
      ]
    },
    {
      "cell_type": "code",
      "metadata": {
        "id": "7SY1ZHawyZvz",
        "colab_type": "code",
        "outputId": "423e5e2d-20b4-4252-b2c1-73a317b31f6f",
        "colab": {
          "base_uri": "https://localhost:8080/",
          "height": 355
        }
      },
      "source": [
        "from IPython.display import display, Image\n",
        "\n",
        "url = 'https://fivethirtyeight.com/wp-content/uploads/2017/09/mehtahickey-inconvenient-0830-1.png'\n",
        "example = Image(url=url, width=400)\n",
        "\n",
        "display(example)"
      ],
      "execution_count": 0,
      "outputs": [
        {
          "output_type": "display_data",
          "data": {
            "text/html": [
              "<img src=\"https://fivethirtyeight.com/wp-content/uploads/2017/09/mehtahickey-inconvenient-0830-1.png\" width=\"400\"/>"
            ],
            "text/plain": [
              "<IPython.core.display.Image object>"
            ]
          },
          "metadata": {
            "tags": []
          }
        }
      ]
    },
    {
      "cell_type": "code",
      "metadata": {
        "id": "m0HhXHYyRffR",
        "colab_type": "code",
        "colab": {}
      },
      "source": [
        "%matplotlib inline\n",
        "import matplotlib.pyplot as plt\n",
        "import numpy as np\n",
        "import pandas as pd"
      ],
      "execution_count": 0,
      "outputs": []
    },
    {
      "cell_type": "code",
      "metadata": {
        "id": "W-a7dlUERviC",
        "colab_type": "code",
        "outputId": "4bf8b9bc-da30-43fa-e8c3-3783a3ef962c",
        "colab": {
          "base_uri": "https://localhost:8080/",
          "height": 268
        }
      },
      "source": [
        "fake = pd.Series([38, 3, 2, 1, 2, 4, 6, 5, 5, 33], \n",
        "                 index=range(1,11))\n",
        "\n",
        "fake.plot.bar(color='C1', width=0.9);"
      ],
      "execution_count": 0,
      "outputs": [
        {
          "output_type": "display_data",
          "data": {
            "image/png": "[encoded data removed]",
            "text/plain": [
              "<Figure size 432x288 with 1 Axes>"
            ]
          },
          "metadata": {
            "tags": []
          }
        }
      ]
    },
    {
      "cell_type": "code",
      "metadata": {
        "id": "nqtVE5gvSRFJ",
        "colab_type": "code",
        "outputId": "f3b270f8-d9ea-4938-fe7f-dd41dbb0ba76",
        "colab": {
          "base_uri": "https://localhost:8080/",
          "height": 270
        }
      },
      "source": [
        "fake2 = pd.Series(\n",
        "    [1, 1, 1, 1, 1, 1, 1, 1, 1, 1, 1, 1, 1, 1, 1, 1, 1, 1, 1, 1, 1, 1, 1, 1,\n",
        "     2, 2, 2, \n",
        "     3, 3, 3,\n",
        "     4, 4,\n",
        "     5, 5, 5,\n",
        "     6, 6, 6, 6,\n",
        "     7, 7, 7, 7, 7,\n",
        "     8, 8, 8, 8,\n",
        "     9, 9, 9, 9, \n",
        "     10, 10, 10, 10, 10, 10, 10, 10, 10, 10, 10, 10, 10, 10, 10, 10, 10, 10])\n",
        "\n",
        "fake2.value_counts().sort_index().plot.bar(color='C1', width=0.9);"
      ],
      "execution_count": 0,
      "outputs": [
        {
          "output_type": "display_data",
          "data": {
            "image/png": "[encoded data removed]",
            "text/plain": [
              "<Figure size 432x288 with 1 Axes>"
            ]
          },
          "metadata": {
            "tags": []
          }
        }
      ]
    },
    {
      "cell_type": "code",
      "metadata": {
        "id": "ih4ARMJTTAPd",
        "colab_type": "code",
        "outputId": "908ef92c-bbb3-4fa4-f2bd-4b532433664b",
        "colab": {
          "base_uri": "https://localhost:8080/",
          "height": 355
        }
      },
      "source": [
        "display(example)"
      ],
      "execution_count": 0,
      "outputs": [
        {
          "output_type": "display_data",
          "data": {
            "text/html": [
              "<img src=\"https://fivethirtyeight.com/wp-content/uploads/2017/09/mehtahickey-inconvenient-0830-1.png\" width=\"400\"/>"
            ],
            "text/plain": [
              "<IPython.core.display.Image object>"
            ]
          },
          "metadata": {
            "tags": []
          }
        }
      ]
    },
    {
      "cell_type": "code",
      "metadata": {
        "id": "TKsTsnHeTEBo",
        "colab_type": "code",
        "outputId": "17ab263e-1162-408e-bd5d-f108b01248dd",
        "colab": {
          "base_uri": "https://localhost:8080/",
          "height": 354
        }
      },
      "source": [
        "plt.style.use('fivethirtyeight')\n",
        "\n",
        "fig, ax = plt.subplots()\n",
        "\n",
        "fig.patch.set(facecolor='white')\n",
        "\n",
        "fake.plot.bar(width=0.9, color='#ED713A')\n",
        "\n",
        "ax.set(facecolor='white')\n",
        "\n",
        "ax.set_title(\"'An Inconvenient Sequel: truth To Power' is divisive\", fontsize=12, fontweight='bold', x=.35, y=1.1) \n",
        "\n",
        "ax.set_ylabel('Percent of total votes', fontsize=9, fontweight='bold')\n",
        "\n",
        "ax.set_xlabel('Rating', fontsize=9, fontweight='bold')\n",
        "\n",
        "ax.text(s='IMDb ratings for the film as of Aug. 29', y=41.5, x=-1.8, fontsize=12)\n",
        "\n",
        "ax.set_yticklabels(['0', '10', '20', '30', '40%'], fontsize=10)\n",
        "ax.set_yticks(range(0,50,10))\n",
        "\n",
        "ax.set_xticklabels(range(1,11,1), rotation='horizontal', fontsize=8)\n",
        "\n",
        "plt.gca().spines['left'].set_visible(False)\n",
        "plt.gca().spines['right'].set_visible(False)\n",
        "\n",
        "trans = ax.get_xaxis_transform()\n",
        "ax.plot([-2,10],[-.15,-.15], lw=.2, transform=trans, clip_on=False)\n",
        "\n",
        "fig.text(s='FiveThirtyEight', y=-.1, x=-0.03, fontsize=9)\n",
        "fig.text(s='SOURCE: IMDB', y=-.1, x=0.8, fontsize=9)\n",
        "\n",
        "fig.show()"
      ],
      "execution_count": 0,
      "outputs": [
        {
          "output_type": "display_data",
          "data": {
            "image/png": "[encoded data removed]",
            "text/plain": [
              "<Figure size 432x288 with 1 Axes>"
            ]
          },
          "metadata": {
            "tags": []
          }
        }
      ]
    },
    {
      "cell_type": "markdown",
      "metadata": {
        "id": "OcOJb07vpDky",
        "colab_type": "text"
      },
      "source": [
        "# Reproduce American Chess Is Great Again\n",
        "\n",
        "Article: https://fivethirtyeight.com/features/american-chess-is-great-again/"
      ]
    },
    {
      "cell_type": "code",
      "metadata": {
        "id": "oyd6IJOs-fXu",
        "colab_type": "code",
        "outputId": "931c4985-d30c-46df-cbd8-f438408c9299",
        "colab": {
          "base_uri": "https://localhost:8080/",
          "height": 577
        }
      },
      "source": [
        "from IPython.display import display, Image\n",
        "\n",
        "url = 'https://fivethirtyeight.com/wp-content/uploads/2017/08/roeder-uschess-2.png'\n",
        "chess = Image(url=url, width=500)\n",
        "\n",
        "display(chess)"
      ],
      "execution_count": 5,
      "outputs": [
        {
          "output_type": "display_data",
          "data": {
            "text/html": [
              "<img src=\"https://fivethirtyeight.com/wp-content/uploads/2017/08/roeder-uschess-2.png\" width=\"500\"/>"
            ],
            "text/plain": [
              "<IPython.core.display.Image object>"
            ]
          },
          "metadata": {
            "tags": []
          }
        }
      ]
    },
    {
      "cell_type": "code",
      "metadata": {
        "id": "cnM3nyayqOcN",
        "colab_type": "code",
        "colab": {}
      },
      "source": [
        "chess_transfers = pd.read_csv('https://raw.githubusercontent.com/fivethirtyeight/data/master/chess-transfers/transfers.csv')"
      ],
      "execution_count": 0,
      "outputs": []
    },
    {
      "cell_type": "code",
      "metadata": {
        "id": "4_dIWDIQq67Z",
        "colab_type": "code",
        "outputId": "9ab0a8ff-fc1d-4cef-dc67-edf5251d56e5",
        "colab": {
          "base_uri": "https://localhost:8080/",
          "height": 221
        }
      },
      "source": [
        "print(chess_transfers.shape)\n",
        "chess_transfers.head()"
      ],
      "execution_count": 7,
      "outputs": [
        {
          "output_type": "stream",
          "text": [
            "(932, 5)\n"
          ],
          "name": "stdout"
        },
        {
          "output_type": "execute_result",
          "data": {
            "text/html": [
              "<div>\n",
              "<style scoped>\n",
              "    .dataframe tbody tr th:only-of-type {\n",
              "        vertical-align: middle;\n",
              "    }\n",
              "\n",
              "    .dataframe tbody tr th {\n",
              "        vertical-align: top;\n",
              "    }\n",
              "\n",
              "    .dataframe thead th {\n",
              "        text-align: right;\n",
              "    }\n",
              "</style>\n",
              "<table border=\"1\" class=\"dataframe\">\n",
              "  <thead>\n",
              "    <tr style=\"text-align: right;\">\n",
              "      <th></th>\n",
              "      <th>url</th>\n",
              "      <th>ID</th>\n",
              "      <th>Federation</th>\n",
              "      <th>Form.Fed</th>\n",
              "      <th>Transfer Date</th>\n",
              "    </tr>\n",
              "  </thead>\n",
              "  <tbody>\n",
              "    <tr>\n",
              "      <th>0</th>\n",
              "      <td>https://ratings.fide.com/fedchange.phtml?year=...</td>\n",
              "      <td>2019221</td>\n",
              "      <td>USA</td>\n",
              "      <td>PHI</td>\n",
              "      <td>12/15/00</td>\n",
              "    </tr>\n",
              "    <tr>\n",
              "      <th>1</th>\n",
              "      <td>https://ratings.fide.com/fedchange.phtml?year=...</td>\n",
              "      <td>14401754</td>\n",
              "      <td>BIH</td>\n",
              "      <td>CRO</td>\n",
              "      <td>1/31/00</td>\n",
              "    </tr>\n",
              "    <tr>\n",
              "      <th>2</th>\n",
              "      <td>https://ratings.fide.com/fedchange.phtml?year=...</td>\n",
              "      <td>14401762</td>\n",
              "      <td>BIH</td>\n",
              "      <td>YUG</td>\n",
              "      <td>1/31/00</td>\n",
              "    </tr>\n",
              "    <tr>\n",
              "      <th>3</th>\n",
              "      <td>https://ratings.fide.com/fedchange.phtml?year=...</td>\n",
              "      <td>2019221</td>\n",
              "      <td>USA</td>\n",
              "      <td>PHI</td>\n",
              "      <td>12/15/00</td>\n",
              "    </tr>\n",
              "    <tr>\n",
              "      <th>4</th>\n",
              "      <td>https://ratings.fide.com/fedchange.phtml?year=...</td>\n",
              "      <td>14401754</td>\n",
              "      <td>BIH</td>\n",
              "      <td>CRO</td>\n",
              "      <td>1/31/00</td>\n",
              "    </tr>\n",
              "  </tbody>\n",
              "</table>\n",
              "</div>"
            ],
            "text/plain": [
              "                                                 url  ...  Transfer Date\n",
              "0  https://ratings.fide.com/fedchange.phtml?year=...  ...       12/15/00\n",
              "1  https://ratings.fide.com/fedchange.phtml?year=...  ...        1/31/00\n",
              "2  https://ratings.fide.com/fedchange.phtml?year=...  ...        1/31/00\n",
              "3  https://ratings.fide.com/fedchange.phtml?year=...  ...       12/15/00\n",
              "4  https://ratings.fide.com/fedchange.phtml?year=...  ...        1/31/00\n",
              "\n",
              "[5 rows x 5 columns]"
            ]
          },
          "metadata": {
            "tags": []
          },
          "execution_count": 7
        }
      ]
    },
    {
      "cell_type": "markdown",
      "metadata": {
        "id": "8DD9GH4a-JeQ",
        "colab_type": "text"
      },
      "source": [
        "Mmm, not the data we need. As we only need data from three chess players, I'll create my own dataset with data from FIDE website. "
      ]
    },
    {
      "cell_type": "code",
      "metadata": {
        "id": "Wg1C8QUh1Gri",
        "colab_type": "code",
        "outputId": "a5f596a1-e05a-40e6-d681-609fcc623690",
        "colab": {
          "base_uri": "https://localhost:8080/",
          "height": 204
        }
      },
      "source": [
        "column_headers = ['date', 'rating', 'name', 'ID']\n",
        "\n",
        "chess_america = pd.read_csv('https://raw.githubusercontent.com/Okocha76/DS-Unit-1-Sprint-1-Data-Wrangling-and-Storytelling/master/module4-make-explanatory-visualizations/chess.data', names=column_headers)\n",
        "chess_america.head()"
      ],
      "execution_count": 2,
      "outputs": [
        {
          "output_type": "execute_result",
          "data": {
            "text/html": [
              "<div>\n",
              "<style scoped>\n",
              "    .dataframe tbody tr th:only-of-type {\n",
              "        vertical-align: middle;\n",
              "    }\n",
              "\n",
              "    .dataframe tbody tr th {\n",
              "        vertical-align: top;\n",
              "    }\n",
              "\n",
              "    .dataframe thead th {\n",
              "        text-align: right;\n",
              "    }\n",
              "</style>\n",
              "<table border=\"1\" class=\"dataframe\">\n",
              "  <thead>\n",
              "    <tr style=\"text-align: right;\">\n",
              "      <th></th>\n",
              "      <th>date</th>\n",
              "      <th>rating</th>\n",
              "      <th>name</th>\n",
              "      <th>ID</th>\n",
              "    </tr>\n",
              "  </thead>\n",
              "  <tbody>\n",
              "    <tr>\n",
              "      <th>0</th>\n",
              "      <td>2019-Nov</td>\n",
              "      <td>2822</td>\n",
              "      <td>Caruana</td>\n",
              "      <td>2020009</td>\n",
              "    </tr>\n",
              "    <tr>\n",
              "      <th>1</th>\n",
              "      <td>2019-Oct</td>\n",
              "      <td>2812</td>\n",
              "      <td>Caruana</td>\n",
              "      <td>2020009</td>\n",
              "    </tr>\n",
              "    <tr>\n",
              "      <th>2</th>\n",
              "      <td>2019-Sep</td>\n",
              "      <td>2812</td>\n",
              "      <td>Caruana</td>\n",
              "      <td>2020009</td>\n",
              "    </tr>\n",
              "    <tr>\n",
              "      <th>3</th>\n",
              "      <td>2019-Aug</td>\n",
              "      <td>2818</td>\n",
              "      <td>Caruana</td>\n",
              "      <td>2020009</td>\n",
              "    </tr>\n",
              "    <tr>\n",
              "      <th>4</th>\n",
              "      <td>2019-Jul</td>\n",
              "      <td>2819</td>\n",
              "      <td>Caruana</td>\n",
              "      <td>2020009</td>\n",
              "    </tr>\n",
              "  </tbody>\n",
              "</table>\n",
              "</div>"
            ],
            "text/plain": [
              "       date  rating     name       ID\n",
              "0  2019-Nov    2822  Caruana  2020009\n",
              "1  2019-Oct    2812  Caruana  2020009\n",
              "2  2019-Sep    2812  Caruana  2020009\n",
              "3  2019-Aug    2818  Caruana  2020009\n",
              "4  2019-Jul    2819  Caruana  2020009"
            ]
          },
          "metadata": {
            "tags": []
          },
          "execution_count": 2
        }
      ]
    },
    {
      "cell_type": "code",
      "metadata": {
        "id": "U3ckCYqG1idl",
        "colab_type": "code",
        "outputId": "58a2f017-96a2-4184-f6ac-e7fadd24d423",
        "colab": {
          "base_uri": "https://localhost:8080/",
          "height": 221
        }
      },
      "source": [
        "chess_america_long = pd.merge(chess_america, chess_transfers[['ID','Federation','Form.Fed']], how='left', on='ID')\n",
        "\n",
        "print(chess_america_long.shape)\n",
        "chess_america_long.head()"
      ],
      "execution_count": 8,
      "outputs": [
        {
          "output_type": "stream",
          "text": [
            "(406, 6)\n"
          ],
          "name": "stdout"
        },
        {
          "output_type": "execute_result",
          "data": {
            "text/html": [
              "<div>\n",
              "<style scoped>\n",
              "    .dataframe tbody tr th:only-of-type {\n",
              "        vertical-align: middle;\n",
              "    }\n",
              "\n",
              "    .dataframe tbody tr th {\n",
              "        vertical-align: top;\n",
              "    }\n",
              "\n",
              "    .dataframe thead th {\n",
              "        text-align: right;\n",
              "    }\n",
              "</style>\n",
              "<table border=\"1\" class=\"dataframe\">\n",
              "  <thead>\n",
              "    <tr style=\"text-align: right;\">\n",
              "      <th></th>\n",
              "      <th>date</th>\n",
              "      <th>rating</th>\n",
              "      <th>name</th>\n",
              "      <th>ID</th>\n",
              "      <th>Federation</th>\n",
              "      <th>Form.Fed</th>\n",
              "    </tr>\n",
              "  </thead>\n",
              "  <tbody>\n",
              "    <tr>\n",
              "      <th>0</th>\n",
              "      <td>2019-Nov</td>\n",
              "      <td>2822</td>\n",
              "      <td>Caruana</td>\n",
              "      <td>2020009</td>\n",
              "      <td>USA</td>\n",
              "      <td>ITA</td>\n",
              "    </tr>\n",
              "    <tr>\n",
              "      <th>1</th>\n",
              "      <td>2019-Oct</td>\n",
              "      <td>2812</td>\n",
              "      <td>Caruana</td>\n",
              "      <td>2020009</td>\n",
              "      <td>USA</td>\n",
              "      <td>ITA</td>\n",
              "    </tr>\n",
              "    <tr>\n",
              "      <th>2</th>\n",
              "      <td>2019-Sep</td>\n",
              "      <td>2812</td>\n",
              "      <td>Caruana</td>\n",
              "      <td>2020009</td>\n",
              "      <td>USA</td>\n",
              "      <td>ITA</td>\n",
              "    </tr>\n",
              "    <tr>\n",
              "      <th>3</th>\n",
              "      <td>2019-Aug</td>\n",
              "      <td>2818</td>\n",
              "      <td>Caruana</td>\n",
              "      <td>2020009</td>\n",
              "      <td>USA</td>\n",
              "      <td>ITA</td>\n",
              "    </tr>\n",
              "    <tr>\n",
              "      <th>4</th>\n",
              "      <td>2019-Jul</td>\n",
              "      <td>2819</td>\n",
              "      <td>Caruana</td>\n",
              "      <td>2020009</td>\n",
              "      <td>USA</td>\n",
              "      <td>ITA</td>\n",
              "    </tr>\n",
              "  </tbody>\n",
              "</table>\n",
              "</div>"
            ],
            "text/plain": [
              "       date  rating     name       ID Federation Form.Fed\n",
              "0  2019-Nov    2822  Caruana  2020009        USA      ITA\n",
              "1  2019-Oct    2812  Caruana  2020009        USA      ITA\n",
              "2  2019-Sep    2812  Caruana  2020009        USA      ITA\n",
              "3  2019-Aug    2818  Caruana  2020009        USA      ITA\n",
              "4  2019-Jul    2819  Caruana  2020009        USA      ITA"
            ]
          },
          "metadata": {
            "tags": []
          },
          "execution_count": 8
        }
      ]
    },
    {
      "cell_type": "code",
      "metadata": {
        "id": "ZnTsCEXz4U79",
        "colab_type": "code",
        "outputId": "a0a9a2bc-ff38-4ab1-890a-d61288d4d607",
        "colab": {
          "base_uri": "https://localhost:8080/",
          "height": 204
        }
      },
      "source": [
        "chess_america_long['date'] = pd.to_datetime(chess_america_long['date'])\n",
        "\n",
        "chess_america_long.head()"
      ],
      "execution_count": 9,
      "outputs": [
        {
          "output_type": "execute_result",
          "data": {
            "text/html": [
              "<div>\n",
              "<style scoped>\n",
              "    .dataframe tbody tr th:only-of-type {\n",
              "        vertical-align: middle;\n",
              "    }\n",
              "\n",
              "    .dataframe tbody tr th {\n",
              "        vertical-align: top;\n",
              "    }\n",
              "\n",
              "    .dataframe thead th {\n",
              "        text-align: right;\n",
              "    }\n",
              "</style>\n",
              "<table border=\"1\" class=\"dataframe\">\n",
              "  <thead>\n",
              "    <tr style=\"text-align: right;\">\n",
              "      <th></th>\n",
              "      <th>date</th>\n",
              "      <th>rating</th>\n",
              "      <th>name</th>\n",
              "      <th>ID</th>\n",
              "      <th>Federation</th>\n",
              "      <th>Form.Fed</th>\n",
              "    </tr>\n",
              "  </thead>\n",
              "  <tbody>\n",
              "    <tr>\n",
              "      <th>0</th>\n",
              "      <td>2019-11-01</td>\n",
              "      <td>2822</td>\n",
              "      <td>Caruana</td>\n",
              "      <td>2020009</td>\n",
              "      <td>USA</td>\n",
              "      <td>ITA</td>\n",
              "    </tr>\n",
              "    <tr>\n",
              "      <th>1</th>\n",
              "      <td>2019-10-01</td>\n",
              "      <td>2812</td>\n",
              "      <td>Caruana</td>\n",
              "      <td>2020009</td>\n",
              "      <td>USA</td>\n",
              "      <td>ITA</td>\n",
              "    </tr>\n",
              "    <tr>\n",
              "      <th>2</th>\n",
              "      <td>2019-09-01</td>\n",
              "      <td>2812</td>\n",
              "      <td>Caruana</td>\n",
              "      <td>2020009</td>\n",
              "      <td>USA</td>\n",
              "      <td>ITA</td>\n",
              "    </tr>\n",
              "    <tr>\n",
              "      <th>3</th>\n",
              "      <td>2019-08-01</td>\n",
              "      <td>2818</td>\n",
              "      <td>Caruana</td>\n",
              "      <td>2020009</td>\n",
              "      <td>USA</td>\n",
              "      <td>ITA</td>\n",
              "    </tr>\n",
              "    <tr>\n",
              "      <th>4</th>\n",
              "      <td>2019-07-01</td>\n",
              "      <td>2819</td>\n",
              "      <td>Caruana</td>\n",
              "      <td>2020009</td>\n",
              "      <td>USA</td>\n",
              "      <td>ITA</td>\n",
              "    </tr>\n",
              "  </tbody>\n",
              "</table>\n",
              "</div>"
            ],
            "text/plain": [
              "        date  rating     name       ID Federation Form.Fed\n",
              "0 2019-11-01    2822  Caruana  2020009        USA      ITA\n",
              "1 2019-10-01    2812  Caruana  2020009        USA      ITA\n",
              "2 2019-09-01    2812  Caruana  2020009        USA      ITA\n",
              "3 2019-08-01    2818  Caruana  2020009        USA      ITA\n",
              "4 2019-07-01    2819  Caruana  2020009        USA      ITA"
            ]
          },
          "metadata": {
            "tags": []
          },
          "execution_count": 9
        }
      ]
    },
    {
      "cell_type": "code",
      "metadata": {
        "id": "prhFYiNB5puD",
        "colab_type": "code",
        "outputId": "40018453-7d7b-4778-fac4-292f47654bc5",
        "colab": {
          "base_uri": "https://localhost:8080/",
          "height": 669
        }
      },
      "source": [
        "chess_am = chess_america_long.pivot_table('rating', index='date', columns='name').reset_index()\n",
        "chess_am.tail(20)"
      ],
      "execution_count": 10,
      "outputs": [
        {
          "output_type": "execute_result",
          "data": {
            "text/html": [
              "<div>\n",
              "<style scoped>\n",
              "    .dataframe tbody tr th:only-of-type {\n",
              "        vertical-align: middle;\n",
              "    }\n",
              "\n",
              "    .dataframe tbody tr th {\n",
              "        vertical-align: top;\n",
              "    }\n",
              "\n",
              "    .dataframe thead th {\n",
              "        text-align: right;\n",
              "    }\n",
              "</style>\n",
              "<table border=\"1\" class=\"dataframe\">\n",
              "  <thead>\n",
              "    <tr style=\"text-align: right;\">\n",
              "      <th>name</th>\n",
              "      <th>date</th>\n",
              "      <th>Caruana</th>\n",
              "      <th>Nakamura</th>\n",
              "      <th>So</th>\n",
              "    </tr>\n",
              "  </thead>\n",
              "  <tbody>\n",
              "    <tr>\n",
              "      <th>124</th>\n",
              "      <td>2018-04-01</td>\n",
              "      <td>2804.0</td>\n",
              "      <td>2787.0</td>\n",
              "      <td>2786.0</td>\n",
              "    </tr>\n",
              "    <tr>\n",
              "      <th>125</th>\n",
              "      <td>2018-05-01</td>\n",
              "      <td>2822.0</td>\n",
              "      <td>2769.0</td>\n",
              "      <td>2778.0</td>\n",
              "    </tr>\n",
              "    <tr>\n",
              "      <th>126</th>\n",
              "      <td>2018-06-01</td>\n",
              "      <td>2816.0</td>\n",
              "      <td>2769.0</td>\n",
              "      <td>2778.0</td>\n",
              "    </tr>\n",
              "    <tr>\n",
              "      <th>127</th>\n",
              "      <td>2018-07-01</td>\n",
              "      <td>2822.0</td>\n",
              "      <td>2777.0</td>\n",
              "      <td>2780.0</td>\n",
              "    </tr>\n",
              "    <tr>\n",
              "      <th>128</th>\n",
              "      <td>2018-08-01</td>\n",
              "      <td>2822.0</td>\n",
              "      <td>2777.0</td>\n",
              "      <td>2780.0</td>\n",
              "    </tr>\n",
              "    <tr>\n",
              "      <th>129</th>\n",
              "      <td>2018-09-01</td>\n",
              "      <td>2827.0</td>\n",
              "      <td>2763.0</td>\n",
              "      <td>2776.0</td>\n",
              "    </tr>\n",
              "    <tr>\n",
              "      <th>130</th>\n",
              "      <td>2018-10-01</td>\n",
              "      <td>2827.0</td>\n",
              "      <td>2763.0</td>\n",
              "      <td>2776.0</td>\n",
              "    </tr>\n",
              "    <tr>\n",
              "      <th>131</th>\n",
              "      <td>2018-11-01</td>\n",
              "      <td>2832.0</td>\n",
              "      <td>2746.0</td>\n",
              "      <td>2765.0</td>\n",
              "    </tr>\n",
              "    <tr>\n",
              "      <th>132</th>\n",
              "      <td>2018-12-01</td>\n",
              "      <td>2832.0</td>\n",
              "      <td>2746.0</td>\n",
              "      <td>2765.0</td>\n",
              "    </tr>\n",
              "    <tr>\n",
              "      <th>133</th>\n",
              "      <td>2019-01-01</td>\n",
              "      <td>2828.0</td>\n",
              "      <td>2749.0</td>\n",
              "      <td>2765.0</td>\n",
              "    </tr>\n",
              "    <tr>\n",
              "      <th>134</th>\n",
              "      <td>2019-02-01</td>\n",
              "      <td>2828.0</td>\n",
              "      <td>2749.0</td>\n",
              "      <td>2765.0</td>\n",
              "    </tr>\n",
              "    <tr>\n",
              "      <th>135</th>\n",
              "      <td>2019-03-01</td>\n",
              "      <td>2828.0</td>\n",
              "      <td>2746.0</td>\n",
              "      <td>2762.0</td>\n",
              "    </tr>\n",
              "    <tr>\n",
              "      <th>136</th>\n",
              "      <td>2019-04-01</td>\n",
              "      <td>2819.0</td>\n",
              "      <td>2746.0</td>\n",
              "      <td>2762.0</td>\n",
              "    </tr>\n",
              "    <tr>\n",
              "      <th>137</th>\n",
              "      <td>2019-05-01</td>\n",
              "      <td>2816.0</td>\n",
              "      <td>2761.0</td>\n",
              "      <td>2754.0</td>\n",
              "    </tr>\n",
              "    <tr>\n",
              "      <th>138</th>\n",
              "      <td>2019-06-01</td>\n",
              "      <td>2819.0</td>\n",
              "      <td>2754.0</td>\n",
              "      <td>2754.0</td>\n",
              "    </tr>\n",
              "    <tr>\n",
              "      <th>139</th>\n",
              "      <td>2019-07-01</td>\n",
              "      <td>2819.0</td>\n",
              "      <td>2754.0</td>\n",
              "      <td>2763.0</td>\n",
              "    </tr>\n",
              "    <tr>\n",
              "      <th>140</th>\n",
              "      <td>2019-08-01</td>\n",
              "      <td>2818.0</td>\n",
              "      <td>2743.0</td>\n",
              "      <td>2776.0</td>\n",
              "    </tr>\n",
              "    <tr>\n",
              "      <th>141</th>\n",
              "      <td>2019-09-01</td>\n",
              "      <td>2812.0</td>\n",
              "      <td>2745.0</td>\n",
              "      <td>2767.0</td>\n",
              "    </tr>\n",
              "    <tr>\n",
              "      <th>142</th>\n",
              "      <td>2019-10-01</td>\n",
              "      <td>2812.0</td>\n",
              "      <td>2745.0</td>\n",
              "      <td>2767.0</td>\n",
              "    </tr>\n",
              "    <tr>\n",
              "      <th>143</th>\n",
              "      <td>2019-11-01</td>\n",
              "      <td>2822.0</td>\n",
              "      <td>2741.0</td>\n",
              "      <td>2765.0</td>\n",
              "    </tr>\n",
              "  </tbody>\n",
              "</table>\n",
              "</div>"
            ],
            "text/plain": [
              "name       date  Caruana  Nakamura      So\n",
              "124  2018-04-01   2804.0    2787.0  2786.0\n",
              "125  2018-05-01   2822.0    2769.0  2778.0\n",
              "126  2018-06-01   2816.0    2769.0  2778.0\n",
              "127  2018-07-01   2822.0    2777.0  2780.0\n",
              "128  2018-08-01   2822.0    2777.0  2780.0\n",
              "129  2018-09-01   2827.0    2763.0  2776.0\n",
              "130  2018-10-01   2827.0    2763.0  2776.0\n",
              "131  2018-11-01   2832.0    2746.0  2765.0\n",
              "132  2018-12-01   2832.0    2746.0  2765.0\n",
              "133  2019-01-01   2828.0    2749.0  2765.0\n",
              "134  2019-02-01   2828.0    2749.0  2765.0\n",
              "135  2019-03-01   2828.0    2746.0  2762.0\n",
              "136  2019-04-01   2819.0    2746.0  2762.0\n",
              "137  2019-05-01   2816.0    2761.0  2754.0\n",
              "138  2019-06-01   2819.0    2754.0  2754.0\n",
              "139  2019-07-01   2819.0    2754.0  2763.0\n",
              "140  2019-08-01   2818.0    2743.0  2776.0\n",
              "141  2019-09-01   2812.0    2745.0  2767.0\n",
              "142  2019-10-01   2812.0    2745.0  2767.0\n",
              "143  2019-11-01   2822.0    2741.0  2765.0"
            ]
          },
          "metadata": {
            "tags": []
          },
          "execution_count": 10
        }
      ]
    },
    {
      "cell_type": "code",
      "metadata": {
        "id": "1nKbzHg-ASDV",
        "colab_type": "code",
        "outputId": "ccaf1e34-c68a-436c-d1fa-b0928eac8826",
        "colab": {
          "base_uri": "https://localhost:8080/",
          "height": 419
        }
      },
      "source": [
        "tidy_chess = chess_am.melt(id_vars='date', value_vars=['Caruana','Nakamura','So'])\n",
        "tidy_chess"
      ],
      "execution_count": 11,
      "outputs": [
        {
          "output_type": "execute_result",
          "data": {
            "text/html": [
              "<div>\n",
              "<style scoped>\n",
              "    .dataframe tbody tr th:only-of-type {\n",
              "        vertical-align: middle;\n",
              "    }\n",
              "\n",
              "    .dataframe tbody tr th {\n",
              "        vertical-align: top;\n",
              "    }\n",
              "\n",
              "    .dataframe thead th {\n",
              "        text-align: right;\n",
              "    }\n",
              "</style>\n",
              "<table border=\"1\" class=\"dataframe\">\n",
              "  <thead>\n",
              "    <tr style=\"text-align: right;\">\n",
              "      <th></th>\n",
              "      <th>date</th>\n",
              "      <th>name</th>\n",
              "      <th>value</th>\n",
              "    </tr>\n",
              "  </thead>\n",
              "  <tbody>\n",
              "    <tr>\n",
              "      <th>0</th>\n",
              "      <td>2000-01-01</td>\n",
              "      <td>Caruana</td>\n",
              "      <td>NaN</td>\n",
              "    </tr>\n",
              "    <tr>\n",
              "      <th>1</th>\n",
              "      <td>2000-07-01</td>\n",
              "      <td>Caruana</td>\n",
              "      <td>NaN</td>\n",
              "    </tr>\n",
              "    <tr>\n",
              "      <th>2</th>\n",
              "      <td>2000-10-01</td>\n",
              "      <td>Caruana</td>\n",
              "      <td>NaN</td>\n",
              "    </tr>\n",
              "    <tr>\n",
              "      <th>3</th>\n",
              "      <td>2001-01-01</td>\n",
              "      <td>Caruana</td>\n",
              "      <td>NaN</td>\n",
              "    </tr>\n",
              "    <tr>\n",
              "      <th>4</th>\n",
              "      <td>2001-04-01</td>\n",
              "      <td>Caruana</td>\n",
              "      <td>NaN</td>\n",
              "    </tr>\n",
              "    <tr>\n",
              "      <th>...</th>\n",
              "      <td>...</td>\n",
              "      <td>...</td>\n",
              "      <td>...</td>\n",
              "    </tr>\n",
              "    <tr>\n",
              "      <th>427</th>\n",
              "      <td>2019-07-01</td>\n",
              "      <td>So</td>\n",
              "      <td>2763.0</td>\n",
              "    </tr>\n",
              "    <tr>\n",
              "      <th>428</th>\n",
              "      <td>2019-08-01</td>\n",
              "      <td>So</td>\n",
              "      <td>2776.0</td>\n",
              "    </tr>\n",
              "    <tr>\n",
              "      <th>429</th>\n",
              "      <td>2019-09-01</td>\n",
              "      <td>So</td>\n",
              "      <td>2767.0</td>\n",
              "    </tr>\n",
              "    <tr>\n",
              "      <th>430</th>\n",
              "      <td>2019-10-01</td>\n",
              "      <td>So</td>\n",
              "      <td>2767.0</td>\n",
              "    </tr>\n",
              "    <tr>\n",
              "      <th>431</th>\n",
              "      <td>2019-11-01</td>\n",
              "      <td>So</td>\n",
              "      <td>2765.0</td>\n",
              "    </tr>\n",
              "  </tbody>\n",
              "</table>\n",
              "<p>432 rows × 3 columns</p>\n",
              "</div>"
            ],
            "text/plain": [
              "          date     name   value\n",
              "0   2000-01-01  Caruana     NaN\n",
              "1   2000-07-01  Caruana     NaN\n",
              "2   2000-10-01  Caruana     NaN\n",
              "3   2001-01-01  Caruana     NaN\n",
              "4   2001-04-01  Caruana     NaN\n",
              "..         ...      ...     ...\n",
              "427 2019-07-01       So  2763.0\n",
              "428 2019-08-01       So  2776.0\n",
              "429 2019-09-01       So  2767.0\n",
              "430 2019-10-01       So  2767.0\n",
              "431 2019-11-01       So  2765.0\n",
              "\n",
              "[432 rows x 3 columns]"
            ]
          },
          "metadata": {
            "tags": []
          },
          "execution_count": 11
        }
      ]
    },
    {
      "cell_type": "code",
      "metadata": {
        "id": "o15wWKForviF",
        "colab_type": "code",
        "colab": {
          "base_uri": "https://localhost:8080/",
          "height": 577
        },
        "outputId": "96b84f7c-365d-4cce-d0c9-49ae12dcaab7"
      },
      "source": [
        "display(chess)"
      ],
      "execution_count": 12,
      "outputs": [
        {
          "output_type": "display_data",
          "data": {
            "text/html": [
              "<img src=\"https://fivethirtyeight.com/wp-content/uploads/2017/08/roeder-uschess-2.png\" width=\"500\"/>"
            ],
            "text/plain": [
              "<IPython.core.display.Image object>"
            ]
          },
          "metadata": {
            "tags": []
          }
        }
      ]
    },
    {
      "cell_type": "code",
      "metadata": {
        "id": "KuzqBUHa4wUo",
        "colab_type": "code",
        "outputId": "b379c663-5a2e-4c02-ccb3-1ea6b36627d6",
        "colab": {
          "base_uri": "https://localhost:8080/",
          "height": 490
        }
      },
      "source": [
        "# Current problems:\n",
        "# - Missing months < 2013 mess up chart. Shape is correct, but time/rating don't match.\n",
        "# - Lot of styling still to be done\n",
        "\n",
        "import matplotlib.pyplot as plt\n",
        "import pandas as pd\n",
        "import matplotlib.ticker as ticker\n",
        "\n",
        "plt.style.use('fivethirtyeight')\n",
        "\n",
        "Caruana   = {'2002-01-01':2032, '2002-04-01':2026, '2002-07-01':2040, '2002-10-01':2102,\n",
        "             '2003-01-01':2134, '2003-04-01':2165, '2003-07-01':2160, '2003-10-01':2137,\n",
        "             '2004-01-01':2122, '2004-04-01':2140, '2004-07-01':2169, '2004-10-01':2196,\n",
        "             '2005-01-01':2219, '2005-04-01':2255, '2005-07-01':2381, '2005-10-01':2373,\n",
        "             '2006-01-01':2409, '2006-04-01':2426, '2006-07-01':2444, '2006-10-01':2474,\n",
        "             '2007-01-01':2492, '2007-04-01':2513, '2007-07-01':2549, '2007-10-01':2594,\n",
        "             '2008-01-01':2598, '2008-04-01':2620, '2008-07-01':2630, '2008-10-01':2640,\n",
        "             '2009-01-01':2646, '2009-04-01':2649, '2009-07-01':2670, '2009-09-01':2662, '2009-11-01':2652,\n",
        "             '2010-01-01':2675, '2010-03-01':2680, '2010-05-01':2675, '2010-07-01':2697, '2010-09-01':2700, '2010-11-01':2709,\n",
        "             '2011-01-01':2721, '2011-03-01':2716, '2011-05-01':2714, '2011-07-01':2711, '2011-09-01':2712, '2011-11-01':2727, \n",
        "             '2012-01-01':2736, '2012-03-01':2767, '2012-05-01':2770, '2012-07-01':2775, '2012-08-01':2773, '2012-09-01':2773, '2012-10-01':2772, '2012-11-01':2786, '2012-12-01':2782,\n",
        "             '2013-01-01':2781, '2013-02-01':2757, '2013-03-01':2760, '2013-04-01':2772, '2013-05-01':2774, '2013-06-01':2774, '2013-07-01':2796, '2013-08-01':2796, '2013-09-01':2779, '2013-10-01':2779, '2013-11-01':2782, '2013-12-01':2782,\n",
        "             '2014-01-01':2782, '2014-02-01':2781, '2014-03-01':2783, '2014-04-01':2783, '2014-05-01':2783, '2014-06-01':2791, '2014-07-01':2789, '2014-08-01':2801, '2014-09-01':2801, '2014-10-01':2844, '2014-11-01':2839, '2014-12-01':2829,\n",
        "             '2015-01-01':2820, '2015-02-01':2811, '2015-03-01':2802, '2015-04-01':2802, '2015-05-01':2803, '2015-06-01':2805, '2015-07-01':2797, '2015-08-01':2808, '2015-09-01':2808, '2015-10-01':2796, '2015-11-01':2787, '2015-12-01':2787,\n",
        "             '2016-01-01':2787, '2016-02-01':2787, '2016-03-01':2794, '2016-04-01':2795, '2016-05-01':2804, '2016-06-01':2804, '2016-07-01':2810, '2016-08-01':2807, '2016-09-01':2808, '2016-10-01':2813, '2016-11-01':2823, '2016-12-01':2823,\n",
        "             '2017-01-01':2827, '2017-02-01':2827, '2017-03-01':2817, '2017-04-01':2817, '2017-05-01':2802, '2017-06-01':2808, '2017-07-01':2807, '2017-08-01':2807, '2017-09-01':2799, '2017-10-01':2794, '2017-11-01':2799, '2017-12-01':2799,\n",
        "             '2018-01-01':2811, '2018-02-01':2784, '2018-03-01':2784, '2018-04-01':2804, '2018-05-01':2822, '2018-06-01':2816, '2018-07-01':2822, '2018-08-01':2822, '2018-09-01':2827, '2018-10-01':2827, '2018-11-01':2832, '2018-12-01':2832,\n",
        "             '2019-01-01':2828, '2019-02-01':2828, '2019-03-01':2828, '2019-04-01':2819, '2019-05-01':2816, '2019-06-01':2819, '2019-07-01':2819, '2019-08-01':2818, '2019-09-01':2812, '2019-10-01':2812, '2019-11-01':2822}\n",
        "\n",
        "Nakamura  = {'2000-01-01':2261, '2000-07-01':2281, '2000-10-01':2356, \n",
        "             '2001-01-01':2364, '2001-04-01':2428, '2001-07-01':2452, '2001-10-01':2466, \n",
        "             '2002-01-01':2430, '2002-04-01':2465, '2002-07-01':2494, '2002-10-01':2504, \n",
        "             '2003-01-01':2520, '2003-04-01':2561, '2003-07-01':2568, '2003-10-01':2565, \n",
        "             '2004-01-01':2571, '2004-04-01':2580, '2004-07-01':2601, '2004-10-01':2620,\n",
        "             '2005-01-01':2613, '2005-04-01':2657, '2005-07-01':2660, '2005-10-01':2662, \n",
        "             '2006-01-01':2644, '2006-04-01':2664, '2006-07-01':2632, '2006-10-01':2640,\n",
        "             '2007-01-01':2651, '2007-04-01':2663, '2007-07-01':2647, '2007-10-01':2648,\n",
        "             '2008-01-01':2670, '2008-04-01':2686, '2008-07-01':2697, '2008-10-01':2704,\n",
        "             '2009-01-01':2699, '2009-04-01':2701, '2009-07-01':2710, '2009-09-01':2735, '2009-11-01':2715,\n",
        "             '2010-01-01':2708, '2010-03-01':2735, '2010-05-01':2733, '2010-07-01':2729, '2010-09-01':2733, '2010-11-01':2741,\n",
        "             '2011-01-01':2751, '2011-03-01':2774, '2011-05-01':2774, '2011-07-01':2770, '2011-09-01':2753, '2011-11-01':2758,\n",
        "             '2012-01-01':2759, '2012-03-01':2771, '2012-05-01':2775, '2012-07-01':2778, '2012-08-01':2778, '2012-09-01':2783, '2012-10-01':2786, '2012-11-01':2755, '2012-12-01':2760,\n",
        "             '2013-01-01':2769, '2013-02-01':2767, '2013-03-01':2767, '2013-04-01':2767, '2013-05-01':2775, '2013-06-01':2784, '2013-07-01':2775, '2013-08-01':2772, '2013-09-01':2772, '2013-10-01':2783, '2013-11-01':2786, '2013-12-01':2786,\n",
        "             '2014-01-01':2789, '2014-02-01':2776, '2014-03-01':2772, '2014-04-01':2772, '2014-05-01':2772, '2014-06-01':2775, '2014-07-01':2787, '2014-08-01':2787, '2014-09-01':2782, '2014-10-01':2764, '2014-11-01':2767, '2014-12-01':2775,\n",
        "             '2015-01-01':2776, '2015-02-01':2776, '2015-03-01':2798, '2015-04-01':2798, '2015-05-01':2799, '2015-06-01':2802, '2015-07-01':2814, '2015-08-01':2814, '2015-09-01':2814, '2015-10-01':2816, '2015-11-01':2793, '2015-12-01':2793,\n",
        "             '2016-01-01':2787, '2016-02-01':2787, '2016-03-01':2790, '2016-04-01':2787, '2016-05-01':2787, '2016-06-01':2787, '2016-07-01':2787, '2016-08-01':2791, '2016-09-01':2789, '2016-10-01':2787, '2016-11-01':2779, '2016-12-01':2779,\n",
        "             '2017-01-01':2785, '2017-02-01':2785, '2017-03-01':2793, '2017-04-01':2793, '2017-05-01':2786, '2017-06-01':2785, '2017-07-01':2792, '2017-08-01':2792, '2017-09-01':2781, '2017-10-01':2774, '2017-11-01':2780, '2017-12-01':2781,\n",
        "             '2018-01-01':2781, '2018-02-01':2781, '2018-03-01':2787, '2018-04-01':2787, '2018-05-01':2769, '2018-06-01':2769, '2018-07-01':2777, '2018-08-01':2777, '2018-09-01':2763, '2018-10-01':2763, '2018-11-01':2746, '2018-12-01':2746,\n",
        "             '2019-01-01':2749, '2019-02-01':2749, '2019-03-01':2746, '2019-04-01':2746, '2019-05-01':2761, '2019-06-01':2754, '2019-07-01':2754, '2019-08-01':2743, '2019-09-01':2745, '2019-10-01':2745, '2019-11-01':2741}\n",
        "\n",
        "So        =  {'2005-01-01':2165, '2005-04-01':2165, '2005-07-01':2165, '2005-10-01':2216,\n",
        "              '2006-01-01':2216, '2006-04-01':2254, '2006-07-01':2330, '2006-10-01':2411,\n",
        "              '2007-01-01':2451, '2007-04-01':2519, '2007-07-01':2516, '2007-10-01':2531,\n",
        "              '2008-01-01':2526, '2008-04-01':2540, '2008-07-01':2577, '2008-10-01':2610,\n",
        "              '2009-01-01':2627, '2009-04-01':2641, '2009-07-01':2646, '2009-09-01':2644, '2009-11-01':2640,\n",
        "              '2010-01-01':2656, '2010-03-01':2665, '2010-05-01':2665, '2010-07-01':2674, '2010-09-01':2668, '2010-11-01':2669,\n",
        "              '2011-01-01':2673, '2011-03-01':2667, '2011-05-01':2667, '2011-07-01':2658, '2011-09-01':2655, '2011-11-01':2659,\n",
        "              '2012-01-01':2653, '2012-03-01':2653, '2012-05-01':2653, '2012-07-01':2650, '2012-08-01':2652, '2012-09-01':2667, '2012-10-01':2677, '2012-11-01':2678, '2012-12-01':2682,\n",
        "              '2013-01-01':2682, '2013-02-01':2684, '2013-03-01':2701, '2013-04-01':2701, '2013-05-01':2705, '2013-06-01':2705, '2013-07-01':2708, '2013-08-01':2710, '2013-09-01':2710, '2013-10-01':2706, '2013-11-01':2719, '2013-12-01':2719,\n",
        "              '2014-01-01':2719, '2014-02-01':2738, '2014-03-01':2738, '2014-04-01':2738, '2014-05-01':2731, '2014-06-01':2744, '2014-07-01':2744, '2014-08-01':2755, '2014-09-01':2755, '2014-10-01':2755, '2014-11-01':2762, '2014-12-01':2762,\n",
        "              '2015-01-01':2762, '2015-02-01':2788, '2015-03-01':2788, '2015-04-01':2788, '2015-05-01':2778, '2015-06-01':2778, '2015-07-01':2780, '2015-08-01':2779, '2015-09-01':2773, '2015-10-01':2760, '2015-11-01':2767, '2015-12-01':2775,\n",
        "              '2016-01-01':2773, '2016-02-01':2773, '2016-03-01':2773, '2016-04-01':2773, '2016-05-01':2775, '2016-06-01':2770, '2016-07-01':2770, '2016-08-01':2771, '2016-09-01':2782, '2016-10-01':2794, '2016-11-01':2794, '2016-12-01':2794,\n",
        "              '2017-01-01':2808, '2017-02-01':2822, '2017-03-01':2822, '2017-04-01':2822, '2017-05-01':2815, '2017-06-01':2812, '2017-07-01':2810, '2017-08-01':2810, '2017-09-01':2792, '2017-10-01':2788, '2017-11-01':2788, '2017-12-01':2788,\n",
        "              '2018-01-01':2792, '2018-02-01':2799, '2018-03-01':2799, '2018-04-01':2786, '2018-05-01':2778, '2018-06-01':2778, '2018-07-01':2780, '2018-08-01':2780, '2018-09-01':2776, '2018-10-01':2776, '2018-11-01':2765, '2018-12-01':2765,\n",
        "              '2019-01-01':2765, '2019-02-01':2765, '2019-03-01':2762, '2019-04-01':2762, '2019-05-01':2754, '2019-06-01':2754, '2019-07-01':2763, '2019-08-01':2776, '2019-09-01':2767, '2019-10-01':2767, '2019-11-01':2765}\n",
        "\n",
        "\n",
        "x1_values = list(Nakamura.keys())\n",
        "x2_values = list(Caruana.keys())\n",
        "x3_values = list(So.keys())\n",
        "\n",
        "y1_values = list(Nakamura.values())\n",
        "y2_values = list (Caruana.values())\n",
        "y3_values = list (So.values())\n",
        "\n",
        "fig, ax = plt.subplots(figsize=(10,6))\n",
        "\n",
        "fig.patch.set(facecolor='white')\n",
        "\n",
        "ax.set(facecolor='white')\n",
        "\n",
        "ax.plot(x1_values, y1_values, color='#45C0C2')\n",
        "ax.plot(x2_values, y2_values, color='#ff148b')\n",
        "ax.plot(x3_values, y3_values, color='#ED753E')\n",
        "\n",
        "plt.ylim(1900,3100)\n",
        "\n",
        "ax.text(x=-1, y=3250, s=\"The Rise of the Trinity\", \n",
        "        fontsize=16, fontweight='semibold', color='#414141')\n",
        "\n",
        "ax.text(x=-1, y=3200, s=\"Historical ratings of the top U.S. chess players through Nov. 1,  2019\", \n",
        "        fontsize=14, color='#414141')\n",
        "\n",
        "ax.set_ylabel('FIDE rating', fontsize=14, fontweight='bold')\n",
        "\n",
        "ax.set_yticks([2000, 2250, 2500, 2750, 3000])\n",
        "ax.set_yticklabels([2000, 2250, 2500, 2750, 3000], fontsize=10, color='#9A9A9A')\n",
        "\n",
        "ax.set_xticks(['2000-01-01', '2004-01-01', '2008-01-01', '2012-01-01', '2016-01-01'])\n",
        "ax.set_xticklabels([2000, \"'04\", \"'08\", \"'12\", \"'16\"], fontsize=10, color='#9A9A9A')\n",
        "\n",
        "\n",
        "x = pd.date_range('1999-11-01', '2019-11-01')\n",
        "ax=plt.gca()\n",
        "ax.xaxis.set_major_locator(ticker.MultipleLocator(48))\n",
        "\n",
        "\n",
        "ax.text(s=\"Nakamura\", fontsize=13, fontweight='bold', y=2700, x=4)\n",
        "ax.text(s=\"Caruana\", fontsize=13, fontweight='bold', y=2200, x=0)\n",
        "ax.text(s=\"So\", fontsize=13, fontweight='bold', y=2600, x=60)\n",
        "\n",
        "plt.gca().spines['left'].set_visible(False)\n",
        "plt.gca().spines['right'].set_visible(False)\n",
        "plt.gca().spines['top'].set_visible(False)\n",
        "plt.gca().spines['bottom'].set_visible(False)\n",
        "\n",
        "trans = ax.get_xaxis_transform()\n",
        "ax.plot([-5,150],[-.1,-.1], lw=.4, color='#414141', transform=trans, clip_on=False)\n",
        "\n",
        "fig.text(s='FiveThirtyEight', x=0.03, y=-.05, color='#414141', fontsize=11)\n",
        "fig.text(s='SOURCE: FIDE', x=0.8, y=-.05, color='#414141', fontsize=11)\n",
        "\n",
        "fig.show()"
      ],
      "execution_count": 86,
      "outputs": [
        {
          "output_type": "display_data",
          "data": {
            "image/png": "[encoded data removed]",
            "text/plain": [
              "<Figure size 720x432 with 1 Axes>"
            ]
          },
          "metadata": {
            "tags": []
          }
        }
      ]
    },
    {
      "cell_type": "markdown",
      "metadata": {
        "id": "0wSrBzmJyWaV",
        "colab_type": "text"
      },
      "source": [
        "# STRETCH OPTIONS\n",
        "\n",
        "### 1) Reproduce one of the following using the matplotlib or seaborn libraries:\n",
        "\n",
        "- [thanksgiving-2015](https://fivethirtyeight.com/features/heres-what-your-part-of-america-eats-on-thanksgiving/) \n",
        "- [candy-power-ranking](https://fivethirtyeight.com/features/the-ultimate-halloween-candy-power-ranking/) \n",
        "- or another example of your choice!\n",
        "\n",
        "### 2) Make more charts!\n",
        "\n",
        "Choose a chart you want to make, from [Visual Vocabulary - Vega Edition](http://ft.com/vocabulary).\n",
        "\n",
        "Find the chart in an example gallery of a Python data visualization library:\n",
        "- [Seaborn](http://seaborn.pydata.org/examples/index.html)\n",
        "- [Altair](https://altair-viz.github.io/gallery/index.html)\n",
        "- [Matplotlib](https://matplotlib.org/gallery.html)\n",
        "- [Pandas](https://pandas.pydata.org/pandas-docs/stable/visualization.html)\n",
        "\n",
        "Reproduce the chart. [Optionally, try the \"Ben Franklin Method.\"](https://docs.google.com/document/d/1ubOw9B3Hfip27hF2ZFnW3a3z9xAgrUDRReOEo-FHCVs/edit) If you want, experiment and make changes.\n",
        "\n",
        "Take notes. Consider sharing your work with your cohort!"
      ]
    },
    {
      "cell_type": "code",
      "metadata": {
        "id": "dRJkKftiy5BJ",
        "colab_type": "code",
        "colab": {}
      },
      "source": [
        "# More Work Here"
      ],
      "execution_count": 0,
      "outputs": []
    }
  ]
}